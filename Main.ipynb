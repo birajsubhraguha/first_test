{
  "nbformat": 4,
  "nbformat_minor": 0,
  "metadata": {
    "colab": {
      "name": "Main.ipynb",
      "version": "0.3.2",
      "provenance": [],
      "include_colab_link": true
    },
    "kernelspec": {
      "name": "python3",
      "display_name": "Python 3"
    }
  },
  "cells": [
    {
      "cell_type": "markdown",
      "metadata": {
        "id": "view-in-github",
        "colab_type": "text"
      },
      "source": [
        "<a href=\"https://colab.research.google.com/github/birajsubhraguha/first_test/blob/master/Main.ipynb\" target=\"_parent\"><img src=\"https://colab.research.google.com/assets/colab-badge.svg\" alt=\"Open In Colab\"/></a>"
      ]
    },
    {
      "metadata": {
        "id": "BY0_Wm0pI3oE",
        "colab_type": "code",
        "colab": {}
      },
      "cell_type": "code",
      "source": [
        "import itertools\n",
        "import numpy as np \n",
        "import pandas as pd\n",
        "import collections as cl\n",
        "import itertools as it\n",
        "import scipy as sc\n",
        "import random"
      ],
      "execution_count": 0,
      "outputs": []
    },
    {
      "metadata": {
        "id": "0xOUF6_tJRG_",
        "colab_type": "code",
        "colab": {
          "base_uri": "https://localhost:8080/",
          "height": 51
        },
        "outputId": "8d324d81-c69a-449a-a735-a3e78a8518d8"
      },
      "cell_type": "code",
      "source": [
        "# Code to read csv file into Colaboratory:\n",
        "!pip install -U -q PyDrive\n",
        "from pydrive.auth import GoogleAuth\n",
        "from pydrive.drive import GoogleDrive\n",
        "from google.colab import auth\n",
        "from oauth2client.client import GoogleCredentials\n",
        "# Authenticate and create the PyDrive client.\n",
        "auth.authenticate_user()\n",
        "gauth = GoogleAuth()\n",
        "gauth.credentials = GoogleCredentials.get_application_default()\n",
        "drive = GoogleDrive(gauth)"
      ],
      "execution_count": 4,
      "outputs": [
        {
          "output_type": "stream",
          "text": [
            "\u001b[?25l\r\u001b[K    1% |▎                               | 10kB 17.6MB/s eta 0:00:01\r\u001b[K    2% |▋                               | 20kB 3.4MB/s eta 0:00:01\r\u001b[K    3% |█                               | 30kB 4.9MB/s eta 0:00:01\r\u001b[K    4% |█▎                              | 40kB 3.1MB/s eta 0:00:01\r\u001b[K    5% |█▋                              | 51kB 3.8MB/s eta 0:00:01\r\u001b[K    6% |██                              | 61kB 4.5MB/s eta 0:00:01\r\u001b[K    7% |██▎                             | 71kB 5.1MB/s eta 0:00:01\r\u001b[K    8% |██▋                             | 81kB 5.8MB/s eta 0:00:01\r\u001b[K    9% |███                             | 92kB 6.4MB/s eta 0:00:01\r\u001b[K    10% |███▎                            | 102kB 4.9MB/s eta 0:00:01\r\u001b[K    11% |███▋                            | 112kB 5.0MB/s eta 0:00:01\r\u001b[K    12% |████                            | 122kB 6.7MB/s eta 0:00:01\r\u001b[K    13% |████▎                           | 133kB 6.7MB/s eta 0:00:01\r\u001b[K    14% |████▋                           | 143kB 12.1MB/s eta 0:00:01\r\u001b[K    15% |█████                           | 153kB 12.2MB/s eta 0:00:01\r\u001b[K    16% |█████▎                          | 163kB 12.3MB/s eta 0:00:01\r\u001b[K    17% |█████▋                          | 174kB 12.4MB/s eta 0:00:01\r\u001b[K    18% |██████                          | 184kB 12.5MB/s eta 0:00:01\r\u001b[K    19% |██████▎                         | 194kB 12.5MB/s eta 0:00:01\r\u001b[K    20% |██████▋                         | 204kB 45.0MB/s eta 0:00:01\r\u001b[K    21% |███████                         | 215kB 14.7MB/s eta 0:00:01\r\u001b[K    22% |███████▎                        | 225kB 14.7MB/s eta 0:00:01\r\u001b[K    23% |███████▋                        | 235kB 15.1MB/s eta 0:00:01\r\u001b[K    24% |████████                        | 245kB 14.9MB/s eta 0:00:01\r\u001b[K    25% |████████▎                       | 256kB 14.9MB/s eta 0:00:01\r\u001b[K    26% |████████▋                       | 266kB 14.2MB/s eta 0:00:01\r\u001b[K    27% |█████████                       | 276kB 14.4MB/s eta 0:00:01\r\u001b[K    29% |█████████▎                      | 286kB 14.4MB/s eta 0:00:01\r\u001b[K    30% |█████████▋                      | 296kB 14.3MB/s eta 0:00:01\r\u001b[K    31% |██████████                      | 307kB 15.2MB/s eta 0:00:01\r\u001b[K    32% |██████████▎                     | 317kB 52.6MB/s eta 0:00:01\r\u001b[K    33% |██████████▋                     | 327kB 54.2MB/s eta 0:00:01\r\u001b[K    34% |███████████                     | 337kB 54.6MB/s eta 0:00:01\r\u001b[K    35% |███████████▎                    | 348kB 50.5MB/s eta 0:00:01\r\u001b[K    36% |███████████▋                    | 358kB 50.4MB/s eta 0:00:01\r\u001b[K    37% |████████████                    | 368kB 60.9MB/s eta 0:00:01\r\u001b[K    38% |████████████▎                   | 378kB 61.3MB/s eta 0:00:01\r\u001b[K    39% |████████████▋                   | 389kB 62.2MB/s eta 0:00:01\r\u001b[K    40% |█████████████                   | 399kB 18.7MB/s eta 0:00:01\r\u001b[K    41% |█████████████▎                  | 409kB 18.4MB/s eta 0:00:01\r\u001b[K    42% |█████████████▋                  | 419kB 18.1MB/s eta 0:00:01\r\u001b[K    43% |██████████████                  | 430kB 17.8MB/s eta 0:00:01\r\u001b[K    44% |██████████████▎                 | 440kB 17.9MB/s eta 0:00:01\r\u001b[K    45% |██████████████▋                 | 450kB 18.1MB/s eta 0:00:01\r\u001b[K    46% |███████████████                 | 460kB 18.0MB/s eta 0:00:01\r\u001b[K    47% |███████████████▎                | 471kB 18.0MB/s eta 0:00:01\r\u001b[K    48% |███████████████▋                | 481kB 18.0MB/s eta 0:00:01\r\u001b[K    49% |████████████████                | 491kB 18.0MB/s eta 0:00:01\r\u001b[K    50% |████████████████▎               | 501kB 56.9MB/s eta 0:00:01\r\u001b[K    51% |████████████████▋               | 512kB 54.4MB/s eta 0:00:01\r\u001b[K    52% |█████████████████               | 522kB 55.9MB/s eta 0:00:01\r\u001b[K    53% |█████████████████▎              | 532kB 58.3MB/s eta 0:00:01\r\u001b[K    54% |█████████████████▋              | 542kB 58.7MB/s eta 0:00:01\r\u001b[K    55% |██████████████████              | 552kB 67.2MB/s eta 0:00:01\r\u001b[K    57% |██████████████████▎             | 563kB 70.0MB/s eta 0:00:01\r\u001b[K    58% |██████████████████▋             | 573kB 69.9MB/s eta 0:00:01\r\u001b[K    59% |███████████████████             | 583kB 69.7MB/s eta 0:00:01\r\u001b[K    60% |███████████████████▎            | 593kB 69.9MB/s eta 0:00:01\r\u001b[K    61% |███████████████████▋            | 604kB 69.5MB/s eta 0:00:01\r\u001b[K    62% |████████████████████            | 614kB 78.1MB/s eta 0:00:01\r\u001b[K    63% |████████████████████▎           | 624kB 78.7MB/s eta 0:00:01\r\u001b[K    64% |████████████████████▋           | 634kB 81.4MB/s eta 0:00:01\r\u001b[K    65% |█████████████████████           | 645kB 82.1MB/s eta 0:00:01\r\u001b[K    66% |█████████████████████▎          | 655kB 78.4MB/s eta 0:00:01\r\u001b[K    67% |█████████████████████▋          | 665kB 54.8MB/s eta 0:00:01\r\u001b[K    68% |██████████████████████          | 675kB 24.0MB/s eta 0:00:01\r\u001b[K    69% |██████████████████████▎         | 686kB 23.4MB/s eta 0:00:01\r\u001b[K    70% |██████████████████████▋         | 696kB 23.1MB/s eta 0:00:01\r\u001b[K    71% |███████████████████████         | 706kB 23.0MB/s eta 0:00:01\r\u001b[K    72% |███████████████████████▎        | 716kB 23.1MB/s eta 0:00:01\r\u001b[K    73% |███████████████████████▋        | 727kB 22.8MB/s eta 0:00:01\r\u001b[K    74% |████████████████████████        | 737kB 22.7MB/s eta 0:00:01\r\u001b[K    75% |████████████████████████▎       | 747kB 22.5MB/s eta 0:00:01\r\u001b[K    76% |████████████████████████▋       | 757kB 22.6MB/s eta 0:00:01\r\u001b[K    77% |████████████████████████▉       | 768kB 25.7MB/s eta 0:00:01\r\u001b[K    78% |█████████████████████████▏      | 778kB 63.8MB/s eta 0:00:01\r\u001b[K    79% |█████████████████████████▌      | 788kB 68.6MB/s eta 0:00:01\r\u001b[K    80% |█████████████████████████▉      | 798kB 70.2MB/s eta 0:00:01\r\u001b[K    81% |██████████████████████████▏     | 808kB 71.5MB/s eta 0:00:01\r\u001b[K    82% |██████████████████████████▌     | 819kB 70.9MB/s eta 0:00:01\r\u001b[K    83% |██████████████████████████▉     | 829kB 73.5MB/s eta 0:00:01\r\u001b[K    85% |███████████████████████████▏    | 839kB 73.1MB/s eta 0:00:01\r\u001b[K    86% |███████████████████████████▌    | 849kB 73.7MB/s eta 0:00:01\r\u001b[K    87% |███████████████████████████▉    | 860kB 63.3MB/s eta 0:00:01\r\u001b[K    88% |████████████████████████████▏   | 870kB 62.4MB/s eta 0:00:01\r\u001b[K    89% |████████████████████████████▌   | 880kB 61.9MB/s eta 0:00:01\r\u001b[K    90% |████████████████████████████▉   | 890kB 62.8MB/s eta 0:00:01\r\u001b[K    91% |█████████████████████████████▏  | 901kB 63.1MB/s eta 0:00:01\r\u001b[K    92% |█████████████████████████████▌  | 911kB 62.9MB/s eta 0:00:01\r\u001b[K    93% |█████████████████████████████▉  | 921kB 64.3MB/s eta 0:00:01\r\u001b[K    94% |██████████████████████████████▏ | 931kB 64.0MB/s eta 0:00:01\r\u001b[K    95% |██████████████████████████████▌ | 942kB 64.1MB/s eta 0:00:01\r\u001b[K    96% |██████████████████████████████▉ | 952kB 63.7MB/s eta 0:00:01\r\u001b[K    97% |███████████████████████████████▏| 962kB 75.9MB/s eta 0:00:01\r\u001b[K    98% |███████████████████████████████▌| 972kB 78.3MB/s eta 0:00:01\r\u001b[K    99% |███████████████████████████████▉| 983kB 80.0MB/s eta 0:00:01\r\u001b[K    100% |████████████████████████████████| 993kB 20.5MB/s \n",
            "\u001b[?25h  Building wheel for PyDrive (setup.py) ... \u001b[?25ldone\n",
            "\u001b[?25h"
          ],
          "name": "stdout"
        }
      ]
    },
    {
      "metadata": {
        "id": "Z9vT7RCRKe5X",
        "colab_type": "code",
        "colab": {
          "base_uri": "https://localhost:8080/",
          "height": 34
        },
        "outputId": "dfe33713-cea8-428c-8d0b-26c9f9bb3a1c"
      },
      "cell_type": "code",
      "source": [
        "link='https://drive.google.com/open?id=1GXRSM6QHrxCGwYgOVIUOPXK9s-_fslas'\n",
        "fluff, id = link.split('=')\n",
        "print (id) # Verify that you have everything after '='\n",
        "\n",
        "downloaded = drive.CreateFile({'id':id}) \n",
        "downloaded.GetContentFile('AllVar.phot.gz')\n",
        "\n",
        "import gzip\n",
        "with gzip.open('AllVar.phot.gz', 'rt') as f:\n",
        "    temp = f.read()\n",
        "temp2 = temp.split(\"\\n\")\n",
        "del temp2[-1]\n",
        "\n",
        "dataa = [[float(y) for y in x.split(',')] for x in temp2]"
      ],
      "execution_count": 8,
      "outputs": [
        {
          "output_type": "stream",
          "text": [
            "1GXRSM6QHrxCGwYgOVIUOPXK9s-_fslas\n"
          ],
          "name": "stdout"
        }
      ]
    },
    {
      "metadata": {
        "id": "jOruwVPqGDcv",
        "colab_type": "code",
        "colab": {}
      },
      "cell_type": "code",
      "source": [
        "df=pd.DataFrame(dataa,columns=['ID','time','mag','magerr','v5','v6'])\n",
        "df=df.loc[:,'ID':'magerr']\n",
        "\n",
        "import copy\n",
        "\n",
        "# this makes a list of lists, where each list's 1st element is the key(ID), and the second element is a dataframe\n",
        "df_grouped=list(df.groupby(by='ID'))\n",
        "df_grouped=[list(i) for i in df_grouped]\n",
        "\n",
        "# this groups w.r.t the stars' ID's\n",
        "df_sorted=copy.deepcopy(df_grouped)\n",
        "for i in range(len(df_sorted)):\n",
        "    df_sorted[i][1]=df_sorted[i][1].sort_values(by='time')\n",
        "\n",
        "# this reads in the ID table with labels and creates a dictionary\n",
        "new=pd.read_csv('http://nesssi.cacr.caltech.edu/DataRelease/CatalinaVars.tbl',delim_whitespace=True)\n",
        "df2=new.loc[:,['Catalina_Surveys_ID','Number_Obs']]\n",
        "df2=df2.rename(columns={'Catalina_Surveys_ID':'ID','Number_Obs':'label'});\n",
        "dic_label={df2['ID'][i]:df2['label'][i] for i in range(len(df2))}\n",
        "\n",
        "# this creates a new df with ID's replaced by labels\n",
        "df_labeled_sorted=copy.deepcopy(df_sorted)\n",
        "for j in range(len(df_labeled_sorted)):\n",
        "    temp=int(df_labeled_sorted[j][0])\n",
        "    df_labeled_sorted[j]=[dic_label[temp]]+df_labeled_sorted[j]"
      ],
      "execution_count": 0,
      "outputs": []
    },
    {
      "metadata": {
        "id": "-6HbKHTqGYk_",
        "colab_type": "code",
        "colab": {
          "base_uri": "https://localhost:8080/",
          "height": 306
        },
        "outputId": "96f5d76c-2c47-4077-f407-d15267c1de07"
      },
      "cell_type": "code",
      "source": [
        "sorted(cl.Counter(list(it.chain([i[0] for i in df_labeled_sorted]))).items(),key=lambda x:x[0])"
      ],
      "execution_count": 10,
      "outputs": [
        {
          "output_type": "execute_result",
          "data": {
            "text/plain": [
              "[(1, 30593),\n",
              " (2, 4658),\n",
              " (3, 279),\n",
              " (4, 2420),\n",
              " (5, 5433),\n",
              " (6, 500),\n",
              " (7, 72),\n",
              " (8, 1514),\n",
              " (9, 62),\n",
              " (10, 124),\n",
              " (11, 242),\n",
              " (12, 7),\n",
              " (13, 512),\n",
              " (14, 142),\n",
              " (15, 25),\n",
              " (16, 85),\n",
              " (17, 153)]"
            ]
          },
          "metadata": {
            "tags": []
          },
          "execution_count": 10
        }
      ]
    },
    {
      "metadata": {
        "id": "9HyahLQYHAke",
        "colab_type": "text"
      },
      "cell_type": "markdown",
      "source": [
        "df_big is a list of 17 elements, each corresponding to a class\n",
        "\n",
        "Each element of df_big is a list of stars in that class, and has the format list(class, star_ID, time_series)\n",
        "\n",
        "time_series is a pandas dataframe, with columns = (ID, time, mag, magerr)"
      ]
    },
    {
      "metadata": {
        "id": "RtQ8QcJRGeau",
        "colab_type": "code",
        "colab": {}
      },
      "cell_type": "code",
      "source": [
        "#put proportion of test-train division here\n",
        "prop=.1\n",
        "tmp=sorted(cl.Counter(list(it.chain([i[0] for i in df_labeled_sorted]))).items(),key=lambda x:x[0])\n",
        "freq=prop*np.array([a[1] for a in tmp])\n",
        "freq=[int(i) for i in list(np.ceil(freq))]\n",
        "\n",
        "#big dataset before division\n",
        "df_big=[[list(i) for i in g] for k,g in it.groupby(sorted(df_labeled_sorted,key=lambda x:x[0]),key=lambda x:x[0])]\n",
        "\n",
        "#test-train division\n",
        "df_test=list()\n",
        "df_train=list()\n",
        "for i in range(len(df_big)):\n",
        "    rng=range(len(df_big[i]))\n",
        "    ind_test=random.sample(rng,freq[i])\n",
        "    ind_train=list(set(rng)-set(ind_test))\n",
        "    df_test.append([df_big[i][j] for j in ind_test])\n",
        "    df_train.append([df_big[i][j] for j in ind_train])"
      ],
      "execution_count": 0,
      "outputs": []
    }
  ]
}